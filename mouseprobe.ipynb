{
  "nbformat": 4,
  "nbformat_minor": 0,
  "metadata": {
    "colab": {
      "name": "mouseprobe.ipynb",
      "provenance": [],
      "collapsed_sections": [
        "U1-TgZK-Vm2M",
        "H3cYLJylVtz5",
        "gyzLeNETWde4",
        "cAP_12bCXC45"
      ],
      "authorship_tag": "ABX9TyNr4rBPemd1kBLd7ig3K+sF",
      "include_colab_link": true
    },
    "kernelspec": {
      "display_name": "Python 3",
      "name": "python3"
    }
  },
  "cells": [
    {
      "cell_type": "markdown",
      "metadata": {
        "id": "view-in-github",
        "colab_type": "text"
      },
      "source": [
        "<a href=\"https://colab.research.google.com/github/operixon/mlsg-kaggle/blob/master/mouseprobe.ipynb\" target=\"_parent\"><img src=\"https://colab.research.google.com/assets/colab-badge.svg\" alt=\"Open In Colab\"/></a>"
      ]
    },
    {
      "cell_type": "markdown",
      "metadata": {
        "id": "U1-TgZK-Vm2M"
      },
      "source": [
        "# Importy"
      ]
    },
    {
      "cell_type": "code",
      "metadata": {
        "id": "nAE4cCKDSad1"
      },
      "source": [
        "import pandas as pd\r\n",
        "import glob\r\n",
        "import os\r\n"
      ],
      "execution_count": 55,
      "outputs": []
    },
    {
      "cell_type": "markdown",
      "metadata": {
        "id": "H3cYLJylVtz5"
      },
      "source": [
        "# Zmienne globalne"
      ]
    },
    {
      "cell_type": "code",
      "metadata": {
        "id": "WohwfPkjVfs2"
      },
      "source": [
        "columnNames = [\"time\",\"x\",\"y\"]"
      ],
      "execution_count": 56,
      "outputs": []
    },
    {
      "cell_type": "markdown",
      "metadata": {
        "id": "_1Psyjv3V2uN"
      },
      "source": [
        "# Pobranie danych"
      ]
    },
    {
      "cell_type": "code",
      "metadata": {
        "id": "BB8_-wysVP2a",
        "colab": {
          "base_uri": "https://localhost:8080/"
        },
        "outputId": "84a9bee0-2942-4a44-c795-2414e465076e"
      },
      "source": [
        "%%bash\r\n",
        "rm -rf mouseml\r\n",
        "git clone https://github.com/operixon/mouseml.git\r\n"
      ],
      "execution_count": 57,
      "outputs": [
        {
          "output_type": "stream",
          "text": [
            "Cloning into 'mouseml'...\n"
          ],
          "name": "stderr"
        }
      ]
    },
    {
      "cell_type": "code",
      "metadata": {
        "colab": {
          "base_uri": "https://localhost:8080/"
        },
        "id": "TeeXTjcRYx9x",
        "outputId": "3d62363c-0a94-4cf6-a3d8-b84717b2a810"
      },
      "source": [
        "!ls mouseml/test1/local/clean"
      ],
      "execution_count": 58,
      "outputs": [
        {
          "output_type": "stream",
          "text": [
            "t1-artur-local-session-1.txt  t1-konrad-local-session-1-touhpad.txt\n",
            "t1-artur-local-session-2.txt  t1-konrad-local-session-2-mouse.txt\n"
          ],
          "name": "stdout"
        }
      ]
    },
    {
      "cell_type": "code",
      "metadata": {
        "colab": {
          "base_uri": "https://localhost:8080/"
        },
        "id": "xh1H8PCCStVh",
        "outputId": "4416b96b-a2f1-4dda-88df-b359e57aecd2"
      },
      "source": [
        "def readFromFile(f):\r\n",
        "  print(f)\r\n",
        "  d = pd.read_csv(f, skiprows=3, header=None)\r\n",
        "  d.columns = columnNames\r\n",
        "  d['file'] = f\r\n",
        "  return d\r\n",
        "\r\n",
        "def readFromDir(dir,t) :\r\n",
        "  localData = pd.concat(map(readFromFile, glob.glob(os.path.join(dir, \"*.txt\"))))\r\n",
        "  localData['session'] = t\r\n",
        "  return localData\r\n",
        "\r\n",
        "def loadData() :\r\n",
        "   return pd.concat([readFromDir('mouseml/test1/local/clean/','local'),\r\n",
        "                    readFromDir('mouseml/test1/remote/clean/','remote')])\r\n",
        "\r\n",
        "data = loadData()\r\n"
      ],
      "execution_count": 68,
      "outputs": [
        {
          "output_type": "stream",
          "text": [
            "mouseml/test1/local/clean/t1-artur-local-session-2.txt\n",
            "mouseml/test1/local/clean/t1-konrad-local-session-2-mouse.txt\n",
            "mouseml/test1/local/clean/t1-artur-local-session-1.txt\n",
            "mouseml/test1/local/clean/t1-konrad-local-session-1-touhpad.txt\n",
            "mouseml/test1/remote/clean/t1-artur-remote-msteams-session2.txt\n",
            "mouseml/test1/remote/clean/t1-artur-remote-msteams-session1.txt\n",
            "mouseml/test1/remote/clean/t1-konrad-remote-msteams-session2.txt\n",
            "mouseml/test1/remote/clean/t1-konrad-remote-msteams-session1.txt\n"
          ],
          "name": "stdout"
        }
      ]
    },
    {
      "cell_type": "code",
      "metadata": {
        "id": "BDEkVTDOX2SZ"
      },
      "source": [
        ""
      ],
      "execution_count": 59,
      "outputs": []
    },
    {
      "cell_type": "markdown",
      "metadata": {
        "id": "bjBGFajOXjp7"
      },
      "source": [
        "# Ekstrakcja cech"
      ]
    },
    {
      "cell_type": "code",
      "metadata": {
        "id": "ewOCihmgXpkc"
      },
      "source": [
        "\r\n",
        "def preproces(df):\r\n",
        "  dfc = df.copy()\r\n",
        "  diff = dfc.diff()\r\n",
        "  dfc[\"dx\"] = diff[\"x\"].abs()\r\n",
        "  dfc[\"dy\"] = diff[\"y\"].abs()\r\n",
        "  return dfc"
      ],
      "execution_count": 60,
      "outputs": []
    },
    {
      "cell_type": "code",
      "metadata": {
        "colab": {
          "base_uri": "https://localhost:8080/",
          "height": 204
        },
        "id": "h6YoZ9DjY713",
        "outputId": "2bd379ec-0009-44b7-8471-5b66d349359d"
      },
      "source": [
        "u1L = preproces(u1L)\r\n",
        "u1R = preproces(u1R)\r\n",
        "\r\n"
      ],
      "execution_count": 61,
      "outputs": [
        {
          "output_type": "error",
          "ename": "NameError",
          "evalue": "ignored",
          "traceback": [
            "\u001b[0;31m---------------------------------------------------------------------------\u001b[0m",
            "\u001b[0;31mNameError\u001b[0m                                 Traceback (most recent call last)",
            "\u001b[0;32m<ipython-input-61-a2f1b6ed3021>\u001b[0m in \u001b[0;36m<module>\u001b[0;34m()\u001b[0m\n\u001b[0;32m----> 1\u001b[0;31m \u001b[0mu1L\u001b[0m \u001b[0;34m=\u001b[0m \u001b[0mpreproces\u001b[0m\u001b[0;34m(\u001b[0m\u001b[0mu1L\u001b[0m\u001b[0;34m)\u001b[0m\u001b[0;34m\u001b[0m\u001b[0;34m\u001b[0m\u001b[0m\n\u001b[0m\u001b[1;32m      2\u001b[0m \u001b[0mu1R\u001b[0m \u001b[0;34m=\u001b[0m \u001b[0mpreproces\u001b[0m\u001b[0;34m(\u001b[0m\u001b[0mu1R\u001b[0m\u001b[0;34m)\u001b[0m\u001b[0;34m\u001b[0m\u001b[0;34m\u001b[0m\u001b[0m\n\u001b[1;32m      3\u001b[0m \u001b[0;34m\u001b[0m\u001b[0m\n",
            "\u001b[0;31mNameError\u001b[0m: name 'u1L' is not defined"
          ]
        }
      ]
    },
    {
      "cell_type": "markdown",
      "metadata": {
        "id": "gyzLeNETWde4"
      },
      "source": [
        "# Podstawowe statystyki"
      ]
    },
    {
      "cell_type": "code",
      "metadata": {
        "colab": {
          "background_save": true,
          "base_uri": "https://localhost:8080/",
          "height": 282
        },
        "id": "IF8zYCVUWiyS",
        "outputId": "9c91da3b-5052-4c4d-9857-08584a486038"
      },
      "source": [
        "u1L.describe()\r\n"
      ],
      "execution_count": null,
      "outputs": [
        {
          "output_type": "execute_result",
          "data": {
            "text/html": [
              "<div>\n",
              "<style scoped>\n",
              "    .dataframe tbody tr th:only-of-type {\n",
              "        vertical-align: middle;\n",
              "    }\n",
              "\n",
              "    .dataframe tbody tr th {\n",
              "        vertical-align: top;\n",
              "    }\n",
              "\n",
              "    .dataframe thead th {\n",
              "        text-align: right;\n",
              "    }\n",
              "</style>\n",
              "<table border=\"1\" class=\"dataframe\">\n",
              "  <thead>\n",
              "    <tr style=\"text-align: right;\">\n",
              "      <th></th>\n",
              "      <th>time</th>\n",
              "      <th>x</th>\n",
              "      <th>y</th>\n",
              "      <th>dx</th>\n",
              "      <th>dy</th>\n",
              "    </tr>\n",
              "  </thead>\n",
              "  <tbody>\n",
              "    <tr>\n",
              "      <th>count</th>\n",
              "      <td>3126.000000</td>\n",
              "      <td>3126.000000</td>\n",
              "      <td>3126.000000</td>\n",
              "      <td>3125.00000</td>\n",
              "      <td>3125.000000</td>\n",
              "    </tr>\n",
              "    <tr>\n",
              "      <th>mean</th>\n",
              "      <td>115522.822137</td>\n",
              "      <td>726.666347</td>\n",
              "      <td>347.388036</td>\n",
              "      <td>17.51104</td>\n",
              "      <td>11.416960</td>\n",
              "    </tr>\n",
              "    <tr>\n",
              "      <th>std</th>\n",
              "      <td>93222.261887</td>\n",
              "      <td>245.093354</td>\n",
              "      <td>114.928592</td>\n",
              "      <td>45.15186</td>\n",
              "      <td>28.252541</td>\n",
              "    </tr>\n",
              "    <tr>\n",
              "      <th>min</th>\n",
              "      <td>1386.000000</td>\n",
              "      <td>273.000000</td>\n",
              "      <td>11.000000</td>\n",
              "      <td>0.00000</td>\n",
              "      <td>0.000000</td>\n",
              "    </tr>\n",
              "    <tr>\n",
              "      <th>25%</th>\n",
              "      <td>29308.750000</td>\n",
              "      <td>541.000000</td>\n",
              "      <td>274.000000</td>\n",
              "      <td>1.00000</td>\n",
              "      <td>1.000000</td>\n",
              "    </tr>\n",
              "    <tr>\n",
              "      <th>50%</th>\n",
              "      <td>93976.500000</td>\n",
              "      <td>670.500000</td>\n",
              "      <td>362.000000</td>\n",
              "      <td>4.00000</td>\n",
              "      <td>3.000000</td>\n",
              "    </tr>\n",
              "    <tr>\n",
              "      <th>75%</th>\n",
              "      <td>189632.000000</td>\n",
              "      <td>885.750000</td>\n",
              "      <td>428.000000</td>\n",
              "      <td>15.00000</td>\n",
              "      <td>10.000000</td>\n",
              "    </tr>\n",
              "    <tr>\n",
              "      <th>max</th>\n",
              "      <td>302402.000000</td>\n",
              "      <td>1571.000000</td>\n",
              "      <td>604.000000</td>\n",
              "      <td>681.00000</td>\n",
              "      <td>395.000000</td>\n",
              "    </tr>\n",
              "  </tbody>\n",
              "</table>\n",
              "</div>"
            ],
            "text/plain": [
              "                time            x            y          dx           dy\n",
              "count    3126.000000  3126.000000  3126.000000  3125.00000  3125.000000\n",
              "mean   115522.822137   726.666347   347.388036    17.51104    11.416960\n",
              "std     93222.261887   245.093354   114.928592    45.15186    28.252541\n",
              "min      1386.000000   273.000000    11.000000     0.00000     0.000000\n",
              "25%     29308.750000   541.000000   274.000000     1.00000     1.000000\n",
              "50%     93976.500000   670.500000   362.000000     4.00000     3.000000\n",
              "75%    189632.000000   885.750000   428.000000    15.00000    10.000000\n",
              "max    302402.000000  1571.000000   604.000000   681.00000   395.000000"
            ]
          },
          "metadata": {
            "tags": []
          },
          "execution_count": 0
        }
      ]
    },
    {
      "cell_type": "code",
      "metadata": {
        "colab": {
          "background_save": true,
          "base_uri": "https://localhost:8080/",
          "height": 282
        },
        "id": "EOoWKEOBWvbM",
        "outputId": "190ccfcc-f2ad-4dac-fd37-586380f9aa9d"
      },
      "source": [
        "u1R.describe()"
      ],
      "execution_count": null,
      "outputs": [
        {
          "output_type": "execute_result",
          "data": {
            "text/html": [
              "<div>\n",
              "<style scoped>\n",
              "    .dataframe tbody tr th:only-of-type {\n",
              "        vertical-align: middle;\n",
              "    }\n",
              "\n",
              "    .dataframe tbody tr th {\n",
              "        vertical-align: top;\n",
              "    }\n",
              "\n",
              "    .dataframe thead th {\n",
              "        text-align: right;\n",
              "    }\n",
              "</style>\n",
              "<table border=\"1\" class=\"dataframe\">\n",
              "  <thead>\n",
              "    <tr style=\"text-align: right;\">\n",
              "      <th></th>\n",
              "      <th>time</th>\n",
              "      <th>x</th>\n",
              "      <th>y</th>\n",
              "      <th>dx</th>\n",
              "      <th>dy</th>\n",
              "    </tr>\n",
              "  </thead>\n",
              "  <tbody>\n",
              "    <tr>\n",
              "      <th>count</th>\n",
              "      <td>2907.000000</td>\n",
              "      <td>2907.000000</td>\n",
              "      <td>2907.000000</td>\n",
              "      <td>2906.000000</td>\n",
              "      <td>2906.000000</td>\n",
              "    </tr>\n",
              "    <tr>\n",
              "      <th>mean</th>\n",
              "      <td>193145.240798</td>\n",
              "      <td>824.608875</td>\n",
              "      <td>335.031992</td>\n",
              "      <td>22.650034</td>\n",
              "      <td>12.264969</td>\n",
              "    </tr>\n",
              "    <tr>\n",
              "      <th>std</th>\n",
              "      <td>115717.387945</td>\n",
              "      <td>283.228231</td>\n",
              "      <td>111.094372</td>\n",
              "      <td>41.241637</td>\n",
              "      <td>19.149165</td>\n",
              "    </tr>\n",
              "    <tr>\n",
              "      <th>min</th>\n",
              "      <td>5982.000000</td>\n",
              "      <td>338.000000</td>\n",
              "      <td>32.000000</td>\n",
              "      <td>0.000000</td>\n",
              "      <td>0.000000</td>\n",
              "    </tr>\n",
              "    <tr>\n",
              "      <th>25%</th>\n",
              "      <td>89745.000000</td>\n",
              "      <td>612.000000</td>\n",
              "      <td>253.000000</td>\n",
              "      <td>2.000000</td>\n",
              "      <td>2.000000</td>\n",
              "    </tr>\n",
              "    <tr>\n",
              "      <th>50%</th>\n",
              "      <td>198841.000000</td>\n",
              "      <td>781.000000</td>\n",
              "      <td>341.000000</td>\n",
              "      <td>8.000000</td>\n",
              "      <td>6.000000</td>\n",
              "    </tr>\n",
              "    <tr>\n",
              "      <th>75%</th>\n",
              "      <td>293423.000000</td>\n",
              "      <td>1041.000000</td>\n",
              "      <td>418.000000</td>\n",
              "      <td>24.000000</td>\n",
              "      <td>14.000000</td>\n",
              "    </tr>\n",
              "    <tr>\n",
              "      <th>max</th>\n",
              "      <td>404968.000000</td>\n",
              "      <td>1609.000000</td>\n",
              "      <td>610.000000</td>\n",
              "      <td>682.000000</td>\n",
              "      <td>226.000000</td>\n",
              "    </tr>\n",
              "  </tbody>\n",
              "</table>\n",
              "</div>"
            ],
            "text/plain": [
              "                time            x            y           dx           dy\n",
              "count    2907.000000  2907.000000  2907.000000  2906.000000  2906.000000\n",
              "mean   193145.240798   824.608875   335.031992    22.650034    12.264969\n",
              "std    115717.387945   283.228231   111.094372    41.241637    19.149165\n",
              "min      5982.000000   338.000000    32.000000     0.000000     0.000000\n",
              "25%     89745.000000   612.000000   253.000000     2.000000     2.000000\n",
              "50%    198841.000000   781.000000   341.000000     8.000000     6.000000\n",
              "75%    293423.000000  1041.000000   418.000000    24.000000    14.000000\n",
              "max    404968.000000  1609.000000   610.000000   682.000000   226.000000"
            ]
          },
          "metadata": {
            "tags": []
          },
          "execution_count": 0
        }
      ]
    },
    {
      "cell_type": "markdown",
      "metadata": {
        "id": "cAP_12bCXC45"
      },
      "source": [
        "# Wykresy"
      ]
    },
    {
      "cell_type": "code",
      "metadata": {
        "colab": {
          "base_uri": "https://localhost:8080/",
          "height": 405
        },
        "id": "h3IF9Um5XG9X",
        "outputId": "5554baa9-9653-4f1f-9ae3-2fe20931d2d2"
      },
      "source": [
        "u1L.hist()"
      ],
      "execution_count": null,
      "outputs": [
        {
          "output_type": "execute_result",
          "data": {
            "text/plain": [
              "array([[<matplotlib.axes._subplots.AxesSubplot object at 0x7f71c213bc50>,\n",
              "        <matplotlib.axes._subplots.AxesSubplot object at 0x7f71c0e4a588>],\n",
              "       [<matplotlib.axes._subplots.AxesSubplot object at 0x7f71c0e7b7f0>,\n",
              "        <matplotlib.axes._subplots.AxesSubplot object at 0x7f71c0e2ba58>],\n",
              "       [<matplotlib.axes._subplots.AxesSubplot object at 0x7f71c0ddccc0>,\n",
              "        <matplotlib.axes._subplots.AxesSubplot object at 0x7f71c0d8cf28>]],\n",
              "      dtype=object)"
            ]
          },
          "metadata": {
            "tags": []
          },
          "execution_count": 35
        },
        {
          "output_type": "display_data",
          "data": {
            "image/png": "[encoded data removed]",
            "text/plain": [
              "<Figure size 432x288 with 6 Axes>"
            ]
          },
          "metadata": {
            "tags": []
          }
        }
      ]
    },
    {
      "cell_type": "code",
      "metadata": {
        "colab": {
          "base_uri": "https://localhost:8080/",
          "height": 297
        },
        "id": "oWtQJd8daSLh",
        "outputId": "a26d7902-a238-4ab7-bdcf-5317decf79c7"
      },
      "source": [
        "u1L[:2000].plot(kind=\"line\",x=\"time\",y=\"dy\")"
      ],
      "execution_count": null,
      "outputs": [
        {
          "output_type": "execute_result",
          "data": {
            "text/plain": [
              "<matplotlib.axes._subplots.AxesSubplot at 0x7f71c08fa550>"
            ]
          },
          "metadata": {
            "tags": []
          },
          "execution_count": 44
        },
        {
          "output_type": "display_data",
          "data": {
            "image/png": "[encoded data removed]",
            "text/plain": [
              "<Figure size 432x288 with 1 Axes>"
            ]
          },
          "metadata": {
            "tags": []
          }
        }
      ]
    },
    {
      "cell_type": "code",
      "metadata": {
        "colab": {
          "base_uri": "https://localhost:8080/",
          "height": 297
        },
        "id": "PDUCwBCya8fk",
        "outputId": "3dcb8fda-2068-4bcc-9873-21934943a3f4"
      },
      "source": [
        "u1R[:2000].plot(kind=\"line\",x=\"time\",y=\"dy\")\r\n"
      ],
      "execution_count": null,
      "outputs": [
        {
          "output_type": "execute_result",
          "data": {
            "text/plain": [
              "<matplotlib.axes._subplots.AxesSubplot at 0x7f71c08311d0>"
            ]
          },
          "metadata": {
            "tags": []
          },
          "execution_count": 45
        },
        {
          "output_type": "display_data",
          "data": {
            "image/png": "[encoded data removed]",
            "text/plain": [
              "<Figure size 432x288 with 1 Axes>"
            ]
          },
          "metadata": {
            "tags": []
          }
        }
      ]
    },
    {
      "cell_type": "code",
      "metadata": {
        "colab": {
          "base_uri": "https://localhost:8080/",
          "height": 283
        },
        "id": "zoHG5SgWeU7L",
        "outputId": "7de3975b-d5fa-4060-c435-37e109b7523e"
      },
      "source": [
        "u1L[(u1L.dy < u1L.dy.quantile(0.9))].dy[:1000].hist()"
      ],
      "execution_count": null,
      "outputs": [
        {
          "output_type": "execute_result",
          "data": {
            "text/plain": [
              "<matplotlib.axes._subplots.AxesSubplot at 0x7f71c077d5f8>"
            ]
          },
          "metadata": {
            "tags": []
          },
          "execution_count": 46
        },
        {
          "output_type": "display_data",
          "data": {
            "image/png": "[encoded data removed]",
            "text/plain": [
              "<Figure size 432x288 with 1 Axes>"
            ]
          },
          "metadata": {
            "tags": []
          }
        }
      ]
    },
    {
      "cell_type": "code",
      "metadata": {
        "colab": {
          "base_uri": "https://localhost:8080/",
          "height": 283
        },
        "id": "F0HNdNCWfL13",
        "outputId": "d14f2906-4d81-46c9-80e4-639394b8ded4"
      },
      "source": [
        "u1R[(u1R.dy < u1R.dy.quantile(0.9))].dy[:1000].hist()"
      ],
      "execution_count": null,
      "outputs": [
        {
          "output_type": "execute_result",
          "data": {
            "text/plain": [
              "<matplotlib.axes._subplots.AxesSubplot at 0x7f71c08fa438>"
            ]
          },
          "metadata": {
            "tags": []
          },
          "execution_count": 43
        },
        {
          "output_type": "display_data",
          "data": {
            "image/png": "[encoded data removed]",
            "text/plain": [
              "<Figure size 432x288 with 1 Axes>"
            ]
          },
          "metadata": {
            "tags": []
          }
        }
      ]
    },
    {
      "cell_type": "code",
      "metadata": {
        "colab": {
          "base_uri": "https://localhost:8080/",
          "height": 297
        },
        "id": "S9YtZzO3hUfP",
        "outputId": "8c4f0ed7-0986-4dd5-f7e1-cbaef18221d5"
      },
      "source": [
        "u1L[\"mdy\"] = u1L.rolling(10).mean().dy\r\n",
        "u1L[:200].plot(x=\"time\",y=[\"mdy\"])"
      ],
      "execution_count": null,
      "outputs": [
        {
          "output_type": "execute_result",
          "data": {
            "text/plain": [
              "<matplotlib.axes._subplots.AxesSubplot at 0x7f71c0a1b048>"
            ]
          },
          "metadata": {
            "tags": []
          },
          "execution_count": 61
        },
        {
          "output_type": "display_data",
          "data": {
            "image/png": "[encoded data removed]",
            "text/plain": [
              "<Figure size 432x288 with 1 Axes>"
            ]
          },
          "metadata": {
            "tags": []
          }
        }
      ]
    },
    {
      "cell_type": "code",
      "metadata": {
        "colab": {
          "base_uri": "https://localhost:8080/",
          "height": 297
        },
        "id": "0_xal5w3irdC",
        "outputId": "eaf77d46-8fda-4767-cd1c-01c9db2580b0"
      },
      "source": [
        "u1R[\"mdy\"] = u1R.rolling(20).mean().dy\r\n",
        "u1R.plot(x=\"time\",y=\"mdy\")"
      ],
      "execution_count": null,
      "outputs": [
        {
          "output_type": "execute_result",
          "data": {
            "text/plain": [
              "<matplotlib.axes._subplots.AxesSubplot at 0x7f71c058ccf8>"
            ]
          },
          "metadata": {
            "tags": []
          },
          "execution_count": 51
        },
        {
          "output_type": "display_data",
          "data": {
            "image/png": "[encoded data removed]",
            "text/plain": [
              "<Figure size 432x288 with 1 Axes>"
            ]
          },
          "metadata": {
            "tags": []
          }
        }
      ]
    }
  ]
}