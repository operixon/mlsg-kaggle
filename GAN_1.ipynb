{
  "nbformat": 4,
  "nbformat_minor": 0,
  "metadata": {
    "colab": {
      "name": "GAN-1.ipynb",
      "provenance": [],
      "collapsed_sections": [],
      "authorship_tag": "ABX9TyNri9nSutS9PJOpUyO9E1bD",
      "include_colab_link": true
    },
    "kernelspec": {
      "name": "python3",
      "display_name": "Python 3"
    }
  },
  "cells": [
    {
      "cell_type": "markdown",
      "metadata": {
        "id": "view-in-github",
        "colab_type": "text"
      },
      "source": [
        "<a href=\"https://colab.research.google.com/github/operixon/mlsg-kaggle/blob/master/GAN_1.ipynb\" target=\"_parent\"><img src=\"https://colab.research.google.com/assets/colab-badge.svg\" alt=\"Open In Colab\"/></a>"
      ]
    },
    {
      "cell_type": "markdown",
      "metadata": {
        "id": "X_J-9YW0HWaU"
      },
      "source": [
        "# Kod ze strony https://towardsdatascience.com/writing-your-first-generative-adversarial-network-with-keras-2d16fd8d4889"
      ]
    },
    {
      "cell_type": "code",
      "metadata": {
        "id": "Dwy8eAlAEwnU"
      },
      "source": [
        "from keras.datasets import mnist\n",
        "from keras.layers import Input, Dense, Reshape, Flatten, Dropout\n",
        "from keras.layers import BatchNormalization, Activation\n",
        "from keras.layers.advanced_activations import LeakyReLU\n",
        "from keras.models import Sequential, Model\n",
        "from keras.optimizers import Adam\n",
        "import matplotlib.pyplot as plt\n",
        "import sys\n",
        "import numpy as np\n",
        "\n",
        "\n"
      ],
      "execution_count": 9,
      "outputs": []
    },
    {
      "cell_type": "code",
      "metadata": {
        "id": "8d6rUo88GZpD"
      },
      "source": [
        "class GAN():\n",
        "    def __init__(self):\n",
        "        self.img_rows = 28\n",
        "        self.img_cols = 28\n",
        "        self.channels = 1\n",
        "        self.img_shape = (self.img_rows, self.img_cols, self.channels)\n",
        "        self.latent_dim = 100\n",
        "        optimizer = Adam(0.0002, 0.5)        \n",
        "        self.discriminator = self.build_discriminator()\n",
        "        self.discriminator.compile(loss='binary_crossentropy',\n",
        "            optimizer=optimizer,\n",
        "            metrics=['accuracy'])        \n",
        "        self.generator = self.build_generator()\n",
        "        z = Input(shape=(self.latent_dim,))\n",
        "        img = self.generator(z)\n",
        "        self.discriminator.trainable = False\n",
        "        validity = self.discriminator(img)\n",
        "        self.combined = Model(z, validity)\n",
        "        self.combined.compile(loss='binary_crossentropy', optimizer=optimizer)\n",
        "    \n",
        "    def build_generator(self):\n",
        "        model = Sequential()\n",
        "        model.add(Dense(256, input_dim=self.latent_dim))\n",
        "        model.add(LeakyReLU(alpha=0.2))\n",
        "        model.add(BatchNormalization(momentum=0.8))\n",
        "        model.add(Dense(512))\n",
        "        model.add(LeakyReLU(alpha=0.2))\n",
        "        model.add(BatchNormalization(momentum=0.8))\n",
        "        model.add(Dense(1024))\n",
        "        model.add(LeakyReLU(alpha=0.2))\n",
        "        model.add(BatchNormalization(momentum=0.8))\n",
        "        model.add(Dense(np.prod(self.img_shape), activation='tanh'))\n",
        "        model.add(Reshape(self.img_shape))\n",
        "        model.summary()\n",
        "        noise = Input(shape=(self.latent_dim,))\n",
        "        img = model(noise)\n",
        "        return Model(noise, img)\n",
        "\n",
        "    def train(self, epochs, batch_size=128, sample_interval=50):        \n",
        "        (X_train, _), (_, _) = mnist.load_data()        \n",
        "        X_train = X_train / 127.5 - 1.\n",
        "        X_train = np.expand_dims(X_train, axis=3)        \n",
        "        valid = np.ones((batch_size, 1))\n",
        "        fake = np.zeros((batch_size, 1))\n",
        "        for epoch in range(epochs):    \n",
        "          idx = np.random.randint(0, X_train.shape[0], batch_size)\n",
        "          imgs = X_train[idx]    \n",
        "          noise = np.random.normal(0, 1, (batch_size, self.latent_dim))    \n",
        "          gen_imgs = self.generator.predict(noise)    \n",
        "          d_loss_real = self.discriminator.train_on_batch(imgs, valid)\n",
        "          d_loss_fake = self.discriminator.train_on_batch(gen_imgs, fake)\n",
        "          d_loss = 0.5 * np.add(d_loss_real, d_loss_fake)\n",
        "          \n",
        "          noise = np.random.normal(0, 1, (batch_size, self.latent_dim))\n",
        "          g_loss = self.combined.train_on_batch(noise, valid)\n",
        "\n",
        "          print (\"%d [D loss: %f, acc.: %.2f%%] [G loss: %f]\" % (epoch, d_loss[0], 100*d_loss[1], g_loss))if epoch % sample_interval == 0:\n",
        "          self.sample_images(epoch)\n",
        "\n",
        "    def sample_images(self, epoch):\n",
        "        r, c = 5, 5\n",
        "        noise = np.random.normal(0, 1, (r * c, self.latent_dim))\n",
        "        gen_imgs = self.generator.predict(noise)        gen_imgs = 0.5 * gen_imgs + 0.5fig, axs = plt.subplots(r, c)\n",
        "        cnt = 0\n",
        "        for i in range(r):\n",
        "            for j in range(c):\n",
        "                axs[i,j].imshow(gen_imgs[cnt, :,:,0], cmap='gray')\n",
        "                axs[i,j].axis('off')\n",
        "                cnt += 1\n",
        "        fig.savefig(\"images/%d.png\" % epoch)\n",
        "        plt.close()\n",
        "\n",
        "      \n",
        "    \n"
      ],
      "execution_count": 27,
      "outputs": []
    },
    {
      "cell_type": "code",
      "metadata": {
        "id": "Foz7N5KXHPww"
      },
      "source": [
        "if __name__ == '__main__':\n",
        "    gan = GAN()\n",
        "    gan.train(epochs=100000, batch_size=132, sample_interval=10000)"
      ],
      "execution_count": null,
      "outputs": []
    }
  ]
}