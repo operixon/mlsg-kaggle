{
  "nbformat": 4,
  "nbformat_minor": 0,
  "metadata": {
    "colab": {
      "name": "Titanic.ipynb",
      "provenance": [],
      "collapsed_sections": [],
      "include_colab_link": true
    },
    "kernelspec": {
      "name": "python3",
      "display_name": "Python 3"
    }
  },
  "cells": [
    {
      "cell_type": "markdown",
      "metadata": {
        "id": "view-in-github",
        "colab_type": "text"
      },
      "source": [
        "<a href=\"https://colab.research.google.com/github/mpodlasin/mlsg-kaggle/blob/master/Titanic.ipynb\" target=\"_parent\"><img src=\"https://colab.research.google.com/assets/colab-badge.svg\" alt=\"Open In Colab\"/></a>"
      ]
    },
    {
      "cell_type": "markdown",
      "metadata": {
        "id": "QD2Ts1OKougp"
      },
      "source": [
        "# Titanic\n",
        "\n",
        "## Ładowanie danych\n",
        "\n",
        "`kaggle` jest to skrypt pozwalający w prosty sposób pobierać dane z portalu Kaggle. Najpierw musimy go zanistalować:\n",
        "\n",
        "(zwróć uwagę, że komenda zaczyna się od znaku `!`, oznacza to, jest to komenda języka `bash` a nie Python)"
      ]
    },
    {
      "cell_type": "code",
      "metadata": {
        "id": "c1-_5GRolsSj"
      },
      "source": [
        "!pip install kaggle"
      ],
      "execution_count": null,
      "outputs": []
    },
    {
      "cell_type": "markdown",
      "metadata": {
        "id": "az2zrB8xHggF"
      },
      "source": [
        "Aby skrypt `kaggle` działał poprawnie, musimy założyć sobie konto na https://kaggle.com i dodać się do konkursu z którego będziemy ściągać dane (w tym przypadku https://www.kaggle.com/c/titanic).\n",
        "\n",
        "Po zrobieniu tego, z portalu kaggle musimy ściągnąć specjalny klucz (w postaci pliku JSON), który pozwala portalowi kaggle potwierdzić, że my to faktycznie my i że mamy dostęp do konkursu. W tym celu idziemy do: https://www.kaggle.com/twoj_login/account i klikamy przycisk \"Create New API Token\". Spowoduje to ściągnięcie pliku `kaggle.json`.\n",
        "\n",
        "Następnie używamy następującego kodu aby zrobić uppload tego pliku do naszego notebooka:"
      ]
    },
    {
      "cell_type": "code",
      "metadata": {
        "id": "FdujbLm1s4Xt"
      },
      "source": [
        "from google.colab import files\n",
        "\n",
        "files.upload()"
      ],
      "execution_count": null,
      "outputs": []
    },
    {
      "cell_type": "markdown",
      "metadata": {
        "id": "aPpdY8meI9Lb"
      },
      "source": [
        "Skrypt `kaggle` wymaga, żeby plik `kaggle.json` znajdował się w folderze `.kaggle` w roocie, naszego drzewa katalogów.\n",
        "\n",
        "Używamy więc komend bashowych, żeby stworzyć taki katalog i umieścić tam plik:"
      ]
    },
    {
      "cell_type": "code",
      "metadata": {
        "id": "yVVYfmO-tAcx"
      },
      "source": [
        "# tworzymy katalog\n",
        "!mkdir -p ~/.kaggle\n",
        "\n",
        "# przenosimy plik do katalogu\n",
        "!cp -rf kaggle.json ~/.kaggle/\n",
        "\n",
        "# nadajemy uprawnienia do odczytu pliku\n",
        "!chmod 600 ~/.kaggle/kaggle.json"
      ],
      "execution_count": null,
      "outputs": []
    },
    {
      "cell_type": "markdown",
      "metadata": {
        "id": "8jWL4l_BJOhA"
      },
      "source": [
        "Teraz możemy już ściągać datasety za pomocą skryptu `kaggle`.\n",
        "\n",
        "Sciągamy więc dataset Titanic:"
      ]
    },
    {
      "cell_type": "code",
      "metadata": {
        "id": "ijrjQN03wR73"
      },
      "source": [
        "!kaggle competitions download -c titanic"
      ],
      "execution_count": null,
      "outputs": []
    },
    {
      "cell_type": "markdown",
      "metadata": {
        "id": "pnoxWaEQJaRY"
      },
      "source": [
        "## Eksploracja danych\n",
        "\n",
        "### Dataset treningowy"
      ]
    },
    {
      "cell_type": "code",
      "metadata": {
        "id": "5PM1IJYIJ2_U"
      },
      "source": [
        "import pandas as pd"
      ],
      "execution_count": null,
      "outputs": []
    },
    {
      "cell_type": "code",
      "metadata": {
        "id": "Jf_jK1lm0CAo"
      },
      "source": [
        "train_titanic = pd.read_csv('/content/train.csv')"
      ],
      "execution_count": null,
      "outputs": []
    },
    {
      "cell_type": "code",
      "metadata": {
        "id": "mf1ctT1_0Ljd"
      },
      "source": [
        "print(train_titanic)"
      ],
      "execution_count": null,
      "outputs": []
    },
    {
      "cell_type": "markdown",
      "metadata": {
        "id": "Dpzb-fCpJuMb"
      },
      "source": [
        "### Dataset testowy"
      ]
    },
    {
      "cell_type": "code",
      "metadata": {
        "id": "364Z0tQ20kec"
      },
      "source": [
        "test_titanic = pd.read_csv('/content/test.csv')"
      ],
      "execution_count": null,
      "outputs": []
    },
    {
      "cell_type": "code",
      "metadata": {
        "id": "_b0YeXW80m0r"
      },
      "source": [
        "print(test_titanic)"
      ],
      "execution_count": null,
      "outputs": []
    }
  ]
}